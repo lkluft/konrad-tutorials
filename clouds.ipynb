{
 "cells": [
  {
   "cell_type": "code",
   "execution_count": null,
   "id": "890a4957",
   "metadata": {},
   "outputs": [],
   "source": [
    "%matplotlib inline"
   ]
  },
  {
   "cell_type": "code",
   "execution_count": null,
   "id": "2d40665f",
   "metadata": {},
   "outputs": [],
   "source": [
    "import matplotlib.pyplot as plt\n",
    "import numpy as np\n",
    "\n",
    "import konrad\n",
    "import typhon as ty\n",
    "\n",
    "\n",
    "ty.plots.styles.use()"
   ]
  },
  {
   "cell_type": "code",
   "execution_count": null,
   "id": "354d579a",
   "metadata": {},
   "outputs": [],
   "source": [
    "# Clear-sky background"
   ]
  },
  {
   "cell_type": "code",
   "execution_count": null,
   "id": "c51098ba",
   "metadata": {},
   "outputs": [],
   "source": [
    "phlev = konrad.utils.get_quadratic_pgrid(num=256)\n",
    "atmosphere = konrad.atmosphere.Atmosphere(phlev)\n",
    "\n",
    "rrtmg = konrad.radiation.RRTMG()\n",
    "\n",
    "\n",
    "rce = konrad.RCE(\n",
    "    atmosphere=atmosphere,\n",
    "    humidity=konrad.humidity.FixedRH(konrad.humidity.HeightConstant(0.8)),\n",
    "    surface=konrad.surface.FixedTemperature(temperature=300.0),\n",
    "    max_duration=\"100d\",\n",
    "    timestep=\"12h\",\n",
    ")\n",
    "rce.run()\n",
    "\n",
    "fig, (ax0, ax1) = plt.subplots(ncols=2, sharey=True)\n",
    "ty.plots.profile_p_log(atmosphere[\"plev\"], atmosphere[\"T\"][-1], ax=ax0)\n",
    "ax0.set_ylabel(\"$p$ / hPa\")\n",
    "ax0.set_xlabel(\"$T$ / K\")\n",
    "\n",
    "ax1.axvline(0, color=\"k\", linewidth=0.8)\n",
    "ty.plots.profile_p_log(atmosphere[\"plev\"], rce.radiation[\"net_htngrt\"][-1], ax=ax1)\n",
    "ax1.set_xlabel(\"Q / $\\sf K\\,day^{-1}$\")\n",
    "ax1.set_xlim(-4, 0.5)\n",
    "ax1.set_ylim(bottom=phlev.max())"
   ]
  },
  {
   "cell_type": "markdown",
   "id": "951aece6",
   "metadata": {},
   "source": [
    "# Conceptual cloud"
   ]
  },
  {
   "cell_type": "code",
   "execution_count": null,
   "id": "df01e25f",
   "metadata": {},
   "outputs": [],
   "source": [
    "single_cloud = konrad.cloud.ConceptualCloud(\n",
    "    atmosphere,  # required for consistent coordinates\n",
    "    cloud_top=200e2,  # in Pa\n",
    "    depth=100e2,  # in Pa\n",
    "    phase=\"ice\",  # \"ice\" or \"liquid\"\n",
    "    water_path=24.0,  # in g/m^3\n",
    "    cloud_fraction=0.3,  # [0-1]\n",
    ")\n",
    "\n",
    "rrtmg = konrad.radiation.RRTMG()\n",
    "rrtmg.update_heatingrates(\n",
    "    atmosphere=atmosphere,\n",
    "    cloud=single_cloud,\n",
    ")\n",
    "\n",
    "fig, (ax0, ax1) = plt.subplots(ncols=2, sharey=True)\n",
    "ax0.axvline(0, color=\"k\", linewidth=0.8)\n",
    "ty.plots.profile_p_log(atmosphere[\"plev\"], rrtmg[\"net_htngrt\"][-1], ax=ax0)\n",
    "ax0.set_xlabel(\"Q / $\\sf K\\,day^{-1}$\")\n",
    "ax0.set_xlim(-4, 0.5)\n",
    "ax0.set_ylabel(\"$p$ / hPa\")\n",
    "ax0.set_ylim(bottom=phlev.max())\n",
    "\n",
    "ax1.axvline(0, color=\"k\", linewidth=0.8)\n",
    "ty.plots.profile_p_log(atmosphere[\"plev\"], rrtmg[\"net_htngrt\"][-1] - rrtmg[\"net_htngrt_clr\"][-1], ax=ax1)\n",
    "ax1.set_xlabel(\"$\\sf Q_\\mathrm{cloud}$ / $\\sf K\\,day^{-1}$\")\n",
    "ax1.set_xlim(-2.25, 2.25)\n",
    "ax1.set_ylim(bottom=phlev.max())"
   ]
  },
  {
   "cell_type": "markdown",
   "id": "bc420045",
   "metadata": {},
   "source": [
    "# Feedback"
   ]
  },
  {
   "cell_type": "code",
   "execution_count": null,
   "id": "0fef699c",
   "metadata": {},
   "outputs": [],
   "source": [
    "phlev = konrad.utils.get_quadratic_pgrid(num=2**8, top_pressure=10)\n",
    "\n",
    "phlev = np.unique(\n",
    "    np.concatenate(\n",
    "        (\n",
    "            ty.math.nlogspace(1000e2, 400e2, num=64 + 1),\n",
    "            ty.math.nlogspace(400e2, 100e2, num=256 + 1),\n",
    "            ty.math.nlogspace(100e2, 10, num=64),\n",
    "        )\n",
    "    )\n",
    ")[::-1]\n",
    "\n",
    "atmosphere = konrad.atmosphere.Atmosphere(phlev)\n",
    "\n",
    "single_cloud = konrad.cloud.ConceptualCloud(\n",
    "    atmosphere,  # required for consistent coordinates\n",
    "    cloud_top=175e2,  # in Pa\n",
    "    depth=100e2,  # in Pa\n",
    "    phase=\"ice\",  # \"ice\" or \"liquid\"\n",
    "    water_path=24.0,  # in g/m^3\n",
    "    cloud_fraction=0.3,  # [0-1]\n",
    "    coupling=\"temperature:210\",\n",
    "    # coupling=\"subsidence_divergence\",\n",
    ")\n",
    "\n",
    "fig, (ax0, ax1) = plt.subplots(ncols=2, sharey=True)\n",
    "temperatures = [294.0, 296.0]\n",
    "olr = []\n",
    "for Ts in temperatures:\n",
    "    rce = konrad.RCE(\n",
    "        atmosphere=atmosphere,\n",
    "        humidity=konrad.humidity.FixedRH(konrad.humidity.HeightConstant(0.8)),\n",
    "        surface=konrad.surface.FixedTemperature(temperature=Ts),\n",
    "        cloud=single_cloud,\n",
    "        max_duration=\"150d\",\n",
    "        timestep=\"12h\",\n",
    "    )\n",
    "    rce.run()\n",
    "\n",
    "    olr.append(rce.radiation[\"lw_flxu\"][-1, -1])\n",
    "    \n",
    "    ty.plots.profile_p_log(atmosphere[\"plev\"], atmosphere[\"T\"][-1], ax=ax0)\n",
    "    ax0.set_ylabel(\"$p$ / hPa\")\n",
    "    ax0.set_xlabel(\"$T$ / K\")\n",
    "    ax0.set_xlim(175, 300)\n",
    "\n",
    "    ax1.axvline(0, color=\"k\", linewidth=0.8)\n",
    "    ty.plots.profile_p_log(atmosphere[\"plev\"], rce.radiation[\"net_htngrt\"][-1] - rce.radiation[\"net_htngrt_clr\"][-1], ax=ax1)\n",
    "    ax1.set_xlabel(\"Q / $\\sf K\\,day^{-1}$\")\n",
    "    ax1.set_xlim(-2, 2.5)\n",
    "    ax1.set_ylim(bottom=phlev.max())#, top=10e2)\n",
    "    \n",
    "np.gradient(olr, temperatures)"
   ]
  },
  {
   "cell_type": "code",
   "execution_count": null,
   "id": "190d2b23",
   "metadata": {},
   "outputs": [],
   "source": [
    "p = np.unique(\n",
    "    np.concatenate(\n",
    "        (\n",
    "            ty.math.nlogspace(1000e2, 400e2, num=64 + 1),\n",
    "            ty.math.nlogspace(400e2, 100e2, num=256 + 1),\n",
    "            ty.math.nlogspace(100e2, 10, num=64),\n",
    "        )\n",
    "    )\n",
    ")[::-1]\n",
    "\n",
    "fig, ax = plt.subplots()\n",
    "ty.plots.profile_p_log(p, -np.gradient(p)/100, marker=\"_\", ls=\"none\")\n",
    "ax.set_ylim(1000e2, 10e2)\n",
    "p.size"
   ]
  }
 ],
 "metadata": {
  "kernelspec": {
   "display_name": "Python 3 (ipykernel)",
   "language": "python",
   "name": "python3"
  }
 },
 "nbformat": 4,
 "nbformat_minor": 5
}
