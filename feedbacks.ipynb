{
 "cells": [
  {
   "cell_type": "code",
   "execution_count": null,
   "id": "2e88193b",
   "metadata": {},
   "outputs": [],
   "source": [
    "%matplotlib inline"
   ]
  },
  {
   "cell_type": "code",
   "execution_count": null,
   "id": "b5073d6e",
   "metadata": {},
   "outputs": [],
   "source": [
    "import matplotlib.pyplot as plt\n",
    "import netCDF4\n",
    "import numpy as np\n",
    "import typhon as ty\n",
    "\n",
    "import konrad\n",
    "\n",
    "\n",
    "ty.plots.styles.use()"
   ]
  },
  {
   "cell_type": "markdown",
   "id": "89f1939e",
   "metadata": {},
   "source": [
    "# Regression method (Gregory et al. 2014)"
   ]
  },
  {
   "cell_type": "code",
   "execution_count": null,
   "id": "c1ded6f5",
   "metadata": {},
   "outputs": [],
   "source": [
    "phlev = konrad.utils.get_quadratic_pgrid(1000e2, 10, 128)\n",
    "atmosphere = konrad.atmosphere.Atmosphere(phlev)\n",
    "\n",
    "# Initialize the setup for the radiative-convective equilibrium simulation.\n",
    "spinup = konrad.RCE(\n",
    "    atmosphere,\n",
    "    surface=konrad.surface.FixedTemperature(temperature=295.0),\n",
    "    timestep='24h',  # Set timestep in model time.\n",
    "    max_duration='150d',  # Set runtime.\n",
    "    outfile='spinup.nc',  # Specify output filename.\n",
    ")\n",
    "spinup.run()  # Start the simulation.\n",
    "\n",
    "atmosphere[\"CO2\"][:] *= 2.0 # double the CO2 concentration\n",
    "\n",
    "perturbed = konrad.RCE(\n",
    "    atmosphere,\n",
    "    surface=konrad.surface.SlabOcean(\n",
    "        temperature=295.0,\n",
    "        heat_sink=spinup.radiation[\"toa\"][-1],\n",
    "        depth=10.,\n",
    "    ),\n",
    "    timestep='12h',  # Set timestep in model time.\n",
    "    max_duration='500d',  # Set runtime.\n",
    "    outfile='perturbed.nc',  # Specify output filename.\n",
    ")\n",
    "perturbed.run()  # Start the simulation."
   ]
  },
  {
   "cell_type": "code",
   "execution_count": null,
   "id": "388b4a65",
   "metadata": {},
   "outputs": [],
   "source": [
    "with netCDF4.Dataset(\"perturbed.nc\", \"r\") as root:\n",
    "    Ts = root[\"surface/temperature\"][:]\n",
    "    olr = root[\"radiation/toa\"][:] - root[\"surface/heat_sink\"][0]\n",
    "        \n",
    "fig, ax = plt.subplots()\n",
    "ax.plot(Ts - Ts[0], olr, lw=4)\n",
    "p = np.polyfit(Ts[25:] - Ts[0], olr[25:], deg=1)\n",
    "ax.axline((0, p[1]), slope=p[0], ls=\"dashed\", color=\"tab:orange\")\n",
    "ax.set_xlabel(r\"$\\Delta T_\\mathrm{s}$ / K\")\n",
    "ax.set_ylabel(r\"$\\Delta F$ / $\\rm Wm^{-2}$\")\n",
    "ax.set_xlim(0, 4)\n",
    "ax.set_ylim(0, 5)\n",
    "\n",
    "print(f\"Climate feedback: {p[0]:.3f} W/m^2/K\")"
   ]
  },
  {
   "cell_type": "markdown",
   "id": "105358b7",
   "metadata": {},
   "source": [
    "# Fixed temperature method"
   ]
  },
  {
   "cell_type": "code",
   "execution_count": null,
   "id": "6670ae6b",
   "metadata": {},
   "outputs": [],
   "source": [
    "phlev = konrad.utils.get_quadratic_pgrid(1000e2, 10, 128)\n",
    "atmosphere = konrad.atmosphere.Atmosphere(phlev)\n",
    "\n",
    "cold = konrad.RCE(\n",
    "    atmosphere,\n",
    "    surface=konrad.surface.FixedTemperature(temperature=295.0),\n",
    "    humidity=FixedRH,\n",
    "    lapserate=MoistAdiabat,\n",
    "    timestep='24h',  # Set timestep in model time.\n",
    "    max_duration='150d',  # Set runtime.\n",
    ")\n",
    "cold.run()  # Start the simulation.\n",
    "\n",
    "warm = konrad.RCE(\n",
    "    atmosphere,\n",
    "    humidity=FixedVMR,\n",
    "    lapserate=MoistAdiabat,\n",
    "    surface=konrad.surface.FixedTemperature(temperature=297.0),\n",
    "    timestep='24h',  # Set timestep in model time.\n",
    "    max_duration='150d',  # Set runtime.\n",
    ")\n",
    "warm.run()  # Start the simulation.\n",
    "\n",
    "feedback = (\n",
    "    (warm.radiation[\"toa\"][-1] - cold.radiation[\"toa\"][-1]) /\n",
    "    (warm.surface[\"temperature\"][-1] - cold.surface[\"temperature\"][-1])\n",
    ")\n",
    "\n",
    "print(f\"Climate feedback: {feedback:.3f} W/m^2/K\")"
   ]
  }
 ],
 "metadata": {
  "kernelspec": {
   "display_name": "Python 3 (ipykernel)",
   "language": "python",
   "name": "python3"
  }
 },
 "nbformat": 4,
 "nbformat_minor": 5
}
