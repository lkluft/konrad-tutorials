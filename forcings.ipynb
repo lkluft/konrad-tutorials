{
 "cells": [
  {
   "cell_type": "code",
   "execution_count": null,
   "id": "9e4f35f0",
   "metadata": {},
   "outputs": [],
   "source": [
    "%matplotlib inline"
   ]
  },
  {
   "cell_type": "code",
   "execution_count": null,
   "id": "b9d2d4f8",
   "metadata": {},
   "outputs": [],
   "source": [
    "import matplotlib.pyplot as plt\n",
    "import netCDF4\n",
    "import numpy as np\n",
    "import typhon as ty\n",
    "\n",
    "import konrad\n",
    "\n",
    "\n",
    "ty.plots.styles.use()"
   ]
  },
  {
   "cell_type": "markdown",
   "id": "3c990d5d",
   "metadata": {},
   "source": [
    "# Greogy method"
   ]
  },
  {
   "cell_type": "code",
   "execution_count": null,
   "id": "43f3bee5",
   "metadata": {},
   "outputs": [],
   "source": [
    "def calc_forcing_regression(\n",
    "    co2_factor=2.0,\n",
    "    co2_reference=348e-6,\n",
    "    T_s=290.0,\n",
    "    humidity=None,\n",
    "    lapserate=None,\n",
    "    ):\n",
    "    \"\"\"Calculate the effective radiative forcing based on two SST RCE runs.\"\"\"\n",
    "    phlev = konrad.utils.get_quadratic_pgrid(1000e2, 10, 128)\n",
    "    atmosphere = konrad.atmosphere.Atmosphere(phlev)\n",
    "    \n",
    "    atmosphere[\"CO2\"][:] = co2_reference # Set reference CO2 concentration\n",
    "    \n",
    "    # Calculate reference OLR.\n",
    "    spinup = konrad.RCE(\n",
    "        atmosphere,\n",
    "        surface=konrad.surface.FixedTemperature(temperature=T_s),\n",
    "        timestep='24h',  # Set timestep in model time.\n",
    "        lapserate=lapserate,\n",
    "        max_duration='150d',  # Set runtime.\n",
    "    )\n",
    "    spinup.run()  # Start the simulation.\n",
    "\n",
    "    # Calculate OLR at perturbed atmospheric state.\n",
    "    atmosphere[\"CO2\"][:] *= co2_factor # double the CO2 concentration\n",
    "    \n",
    "    perturbed = konrad.RCE(\n",
    "        atmosphere,\n",
    "        surface=konrad.surface.SlabOcean(\n",
    "            temperature=T_s,\n",
    "            heat_sink=spinup.radiation[\"toa\"][-1]\n",
    "        ),\n",
    "        timestep='12h',  # Set timestep in model time.\n",
    "        humidity=spinup.humidity if humidity is None else humidity,\n",
    "        lapserate=spinup.lapserate,\n",
    "        max_duration='350d',  # Set runtime.\n",
    "        outfile=\"perturbed.nc\",\n",
    "        writeevery=\"5d\",\n",
    "    )\n",
    "    perturbed.run()  # Start the simulation.\n",
    "    \n",
    "    with netCDF4.Dataset(\"perturbed.nc\", \"r\") as root:\n",
    "        Ts = root[\"surface/temperature\"][:]\n",
    "        toa = root[\"radiation/toa\"][:]\n",
    "        heat_sink = root[\"surface/heat_sink\"][-1]\n",
    "    \n",
    "    dTs = Ts - Ts[0]\n",
    "    toa = toa - heat_sink\n",
    "    is_adjusted = np.abs(dTs) > 0.3\n",
    "    \n",
    "    return np.polyfit(dTs[is_adjusted], toa[is_adjusted], deg=1)[1]"
   ]
  },
  {
   "cell_type": "markdown",
   "id": "5deb2c1c",
   "metadata": {},
   "source": [
    "# Fixed SST approach"
   ]
  },
  {
   "cell_type": "code",
   "execution_count": null,
   "id": "354039a8",
   "metadata": {},
   "outputs": [],
   "source": [
    "def calc_effective_forcing(\n",
    "    co2_factor=2.0,\n",
    "    co2_reference=348e-6,\n",
    "    T_s=290.0,\n",
    "    humidity=None,\n",
    "    lapserate=None,\n",
    "    ):\n",
    "    \"\"\"Calculate the effective radiative forcing based on two SST RCE runs.\"\"\"\n",
    "    phlev = konrad.utils.get_quadratic_pgrid(1000e2, 10, 128)\n",
    "    atmosphere = konrad.atmosphere.Atmosphere(phlev)\n",
    "    \n",
    "    atmosphere[\"CO2\"][:] = co2_reference # Set reference CO2 concentration\n",
    "    \n",
    "    # Calculate reference OLR.\n",
    "    spinup = konrad.RCE(\n",
    "        atmosphere,\n",
    "        surface=konrad.surface.FixedTemperature(temperature=T_s),\n",
    "        timestep='24h',  # Set timestep in model time.\n",
    "        lapserate=lapserate,\n",
    "        max_duration='150d',  # Set runtime.\n",
    "    )\n",
    "    spinup.run()  # Start the simulation.\n",
    "\n",
    "    # Calculate OLR at perturbed atmospheric state.\n",
    "    atmosphere[\"CO2\"][:] *= co2_factor # double the CO2 concentration\n",
    "    \n",
    "    perturbed = konrad.RCE(\n",
    "        atmosphere,\n",
    "        surface=spinup.surface,\n",
    "        timestep='12h',  # Set timestep in model time.\n",
    "        humidity=spinup.humidity if humidity is None else humidity,\n",
    "        lapserate=spinup.lapserate,\n",
    "        max_duration='150d',  # Set runtime.\n",
    "    )\n",
    "    perturbed.run()  # Start the simulation.\n",
    "    \n",
    "    return perturbed.radiation[\"toa\"][-1] - spinup.radiation[\"toa\"][-1]"
   ]
  },
  {
   "cell_type": "markdown",
   "id": "e1bd6ffa",
   "metadata": {},
   "source": [
    "# Compare approaches"
   ]
  },
  {
   "cell_type": "code",
   "execution_count": null,
   "id": "a9efca35",
   "metadata": {},
   "outputs": [],
   "source": [
    "def plot_forcing_dependence(forcing_function):\n",
    "    configurations = {\n",
    "        \"FixedRH\": {\"humidity\": None, \"lapserate\": None},\n",
    "        \"FixedVMR\": {\"humidity\": konrad.humidity.FixedVMR(), \"lapserate\": None},\n",
    "        \"FixedLR\": {\"humidity\": konrad.humidity.FixedVMR(), \"lapserate\": konrad.lapserate.FixedLapseRate()},\n",
    "    }\n",
    "\n",
    "    co2_factors = [0.5, 2, 4, 8]\n",
    "\n",
    "    fig, ax = plt.subplots()\n",
    "    ax.axhline(0, lw=0.8, c=\"k\")\n",
    "    ax.axvline(1, lw=0.8, c=\"k\")\n",
    "    for label, kwargs in configurations.items():\n",
    "        forcings = []\n",
    "        for co2_factor in co2_factors:\n",
    "            forcings.append(forcing_function(\n",
    "                co2_factor=co2_factor,\n",
    "                **kwargs,\n",
    "            ))\n",
    "\n",
    "        l_e = ax.plot(co2_factors, forcings, marker=\"D\", label=label)\n",
    "        print(label, forcings)\n",
    "\n",
    "    ax.set_ylabel(r\"$\\Delta F$ / $\\rm Wm^{-2}$\")\n",
    "    ax.set_xlabel(r\"$ n \\times \\rm CO_2$\")\n",
    "\n",
    "    ax.legend(fontsize=\"small\")\n",
    "    ax.set_xscale(\"log\")\n",
    "    ax.set_xticklabels(co2_factors)\n",
    "    ax.set_xticks(co2_factors)\n",
    "    ax.set_xticks([], minor=True)"
   ]
  },
  {
   "cell_type": "code",
   "execution_count": null,
   "id": "144a8a44",
   "metadata": {},
   "outputs": [],
   "source": [
    "plot_forcing_dependence(calc_forcing_regression)\n",
    "plot_forcing_dependence(calc_effective_forcing)"
   ]
  }
 ],
 "metadata": {
  "kernelspec": {
   "display_name": "Python 3 (ipykernel)",
   "language": "python",
   "name": "python3"
  }
 },
 "nbformat": 4,
 "nbformat_minor": 5
}
