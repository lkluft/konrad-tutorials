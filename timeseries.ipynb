{
 "cells": [
  {
   "cell_type": "code",
   "execution_count": null,
   "id": "ad048426",
   "metadata": {},
   "outputs": [],
   "source": [
    "%matplotlib inline"
   ]
  },
  {
   "cell_type": "code",
   "execution_count": null,
   "id": "ffc90fbd",
   "metadata": {},
   "outputs": [],
   "source": [
    "import matplotlib.pyplot as plt\n",
    "import netCDF4\n",
    "import typhon as ty\n",
    "\n",
    "import konrad\n",
    "\n",
    "\n",
    "ty.plots.styles.use()"
   ]
  },
  {
   "cell_type": "markdown",
   "id": "bc8b4b3d",
   "metadata": {},
   "source": [
    "# Run simple RCE simulation"
   ]
  },
  {
   "cell_type": "code",
   "execution_count": null,
   "id": "9458bdd5",
   "metadata": {},
   "outputs": [],
   "source": [
    "phlev = konrad.utils.get_quadratic_pgrid(1000e2, 10, 128)\n",
    "atmosphere = konrad.atmosphere.Atmosphere(phlev, surface_temperature=None)\n",
    "surface = konrad.surface.SlabOcean(temperature=300.0)\n",
    "\n",
    "# Initialize the setup for the radiative-convective equilibrium simulation.\n",
    "rce = konrad.RCE(\n",
    "    atmosphere,\n",
    "    surface=surface,\n",
    "    timestep='24h',  # Set timestep in model time.\n",
    "    max_duration='500d',  # Set runtime.\n",
    "    outfile='rce.nc',  # Specify output filename.\n",
    ")\n",
    "rce.run()  # Start the simulation."
   ]
  },
  {
   "cell_type": "markdown",
   "id": "52754877",
   "metadata": {},
   "source": [
    "# Read data from netCDF file and plot it"
   ]
  },
  {
   "cell_type": "code",
   "execution_count": null,
   "id": "dd3405dd",
   "metadata": {},
   "outputs": [],
   "source": [
    "with netCDF4.Dataset(\"rce.nc\", \"r\") as root:\n",
    "    hours = root[\"time\"][:]\n",
    "    surface_temperature = root[\"surface/temperature\"][:]\n",
    "    \n",
    "    plev = root[\"plev\"][:]\n",
    "    T = root[\"atmosphere/T\"][:]\n",
    "    \n",
    "# Time series\n",
    "fig, ax = plt.subplots()\n",
    "ax.plot(hours / 24, surface_temperature)\n",
    "ax.set_xlabel(\"Days\")\n",
    "ax.set_ylabel(\"$T_\\mathrm{s}$ / K\")\n",
    "\n",
    "# Plot different states during model run\n",
    "fig, ax = plt.subplots()\n",
    "ty.plots.profile_p_log(plev, T[0], label=\"First time step\")\n",
    "ty.plots.profile_p_log(plev, T[-1], label=\"Last time step\")\n",
    "ax.set_xlabel(\"$T$ / K\")\n",
    "ax.set_ylabel(\"$p$ / hPa\")\n",
    "ax.legend()"
   ]
  }
 ],
 "metadata": {
  "kernelspec": {
   "display_name": "Python 3 (ipykernel)",
   "language": "python",
   "name": "python3"
  }
 },
 "nbformat": 4,
 "nbformat_minor": 5
}
